{
 "cells": [
  {
   "cell_type": "code",
   "execution_count": null,
   "id": "e1eb4a96-8125-4282-aef2-1dd54001d6ff",
   "metadata": {},
   "outputs": [],
   "source": [
    "import pandas as pd\n",
    "import matplotlib.pyplot as plt\n",
    "import seaborn as sns\n",
    "import numpy as np\n",
    "from scipy.stats import skew, kurtosis \n"
   ]
  },
  {
   "cell_type": "markdown",
   "id": "aeb6e773-7074-476f-be86-3b94c174c8ce",
   "metadata": {},
   "source": [
    "## Amazon UK Product Insights: Understanding Product Categories \n",
    "## Business Question 1\n",
    "What are the most popular product categories on Amazon UK, and how do they compare in terms of listing frequency?"
   ]
  },
  {
   "cell_type": "code",
   "execution_count": null,
   "id": "a2f15ac3-b91e-4886-ac28-a628e471ca07",
   "metadata": {},
   "outputs": [],
   "source": [
    "df = pd.read_csv('amz_uk_price_prediction_dataset.csv')\n",
    "df.head()"
   ]
  },
  {
   "cell_type": "code",
   "execution_count": null,
   "id": "ad43513a-325e-4333-85bb-78e3524bdf4d",
   "metadata": {},
   "outputs": [],
   "source": [
    "#Check if category exists and not empty\n",
    "\n",
    "if \"category\" in df.columns:\n",
    "    print(df[\"category\"].isnull().sum())\n",
    "else:\n",
    "    print(\"Column 'category' not found in dataset.\")\n"
   ]
  },
  {
   "cell_type": "code",
   "execution_count": null,
   "id": "2668cf39-2296-45b4-98be-e731dc5d77eb",
   "metadata": {},
   "outputs": [],
   "source": [
    "# Frequency table for product categories\n",
    "category_counts = df['category'].value_counts()"
   ]
  },
  {
   "cell_type": "code",
   "execution_count": null,
   "id": "8e779ad2-2831-4117-806a-16680ad2e937",
   "metadata": {},
   "outputs": [],
   "source": [
    "# Display top 5 most listed product categories\n",
    "top_5_categories = category_counts.head(5)\n",
    "print(\"Top 5 Most Listed Product Categories:\\n\", top_5_categories)"
   ]
  },
  {
   "cell_type": "code",
   "execution_count": null,
   "id": "0c59abc9-f1d6-41dd-9629-5c4b66afb045",
   "metadata": {},
   "outputs": [],
   "source": [
    "# Bar chart for category distribution\n",
    "plt.figure(figsize=(12,6))\n",
    "sns.barplot(x=top_5_categories.index, y=top_5_categories.values, hue=top_5_categories.index, palette='viridis', legend=False)\n",
    "plt.xlabel('Product Category')\n",
    "plt.ylabel('Number of Listings')\n",
    "plt.title('Top 5 Most Listed Product Categories on Amazon UK')\n",
    "plt.xticks(rotation=50)\n",
    "plt.show()\n"
   ]
  },
  {
   "cell_type": "code",
   "execution_count": null,
   "id": "8f684de2-b8cd-4ad2-916b-4a3ca9b87013",
   "metadata": {},
   "outputs": [],
   "source": [
    "# Pie chart for the top categories\n",
    "plt.figure(figsize=(8,8))\n",
    "top_5_categories.plot(kind='pie', autopct='%1.1f%%', cmap='viridis', startangle=140)\n",
    "plt.title('Proportion of Top 5 Listed Product Categories')\n",
    "plt.ylabel('')\n",
    "plt.show()"
   ]
  },
  {
   "cell_type": "markdown",
   "id": "915ea1ed-6862-4b3d-afb0-c5d4e9354f4d",
   "metadata": {},
   "source": [
    "# Key Findings\n",
    "1. Frequency Table Analysis\n",
    "A frequency table was generated to count product listings by category.\n",
    "The top 5 most listed product categories were identified.\n",
    "These top categories make up an important portion of total listings, indicating strong market demand in these areas.\n",
    "\n",
    "2. Data Visualization\n",
    "Bar Chart: Product Category Distribution\n",
    "A bar chart was plotted to visualize the number of listings per category.\n",
    "Some categories had higher listings (Sports and Outdoors) than others.\n",
    "For better clarity, an additional bar chart was created for only the top 5 categories, making comparisons easier.\n",
    "Pie Chart: Proportion of Top Categories\n",
    "A pie chart was used to illustrate the share of each top category in the overall dataset.\n",
    "It was observed that Sports and Outdoors categories dominate the listings, while others have a smaller presence.\n",
    "\n",
    "\n",
    "Business Implications:\n",
    "Market Trends: High-frequency categories indicate strong consumer demand. Retailers should focus on these for inventory optimization.\n",
    "Growth Opportunities: Less-listed categories could present untapped market potential for new product introductions."
   ]
  },
  {
   "cell_type": "markdown",
   "id": "89a19871-ac11-421d-b6be-d922d5b361b8",
   "metadata": {},
   "source": [
    "## Part 2: Delving into Product Pricing\n",
    "Business Question: How are products priced on Amazon UK, and are there specific price points or ranges that are more common?\n",
    "\n"
   ]
  },
  {
   "cell_type": "code",
   "execution_count": null,
   "id": "9cf27046-f1e9-46e2-8203-5074ad3ef82d",
   "metadata": {},
   "outputs": [],
   "source": [
    "# Ensure 'price' column is numeric and drop any NaN values\n",
    "df['price'] = pd.to_numeric(df['price'], errors='coerce')\n",
    "df = df.dropna(subset=['price'])\n"
   ]
  },
  {
   "cell_type": "code",
   "execution_count": null,
   "id": "d9ab0d66-d2ec-42b9-a399-c097e0e0708f",
   "metadata": {},
   "outputs": [],
   "source": [
    "# Measures of Centrality\n",
    "mean_price = df['price'].mean()\n",
    "median_price = df['price'].median()\n",
    "mode_price = df['price'].mode()[0]  # Mode can have multiple values, take the first\n",
    "\n",
    "print(f\"Mean Price: {mean_price:.2f}\")\n",
    "print(f\"Median Price: {median_price:.2f}\")\n",
    "print(f\"Mode Price: {mode_price:.2f}\")\n"
   ]
  },
  {
   "cell_type": "markdown",
   "id": "a5f66056-8c4f-491b-b05d-c0b60a182a6e",
   "metadata": {},
   "source": [
    "**What's the average price point of products listed? How does this compare with the most common price point (mode)?**\n",
    "\n",
    "The average price point of the products listed is 89.24  which is higher than most common price point (mode) of 9.99. This suggests that while most products are priced around $9.99, there are some higher-priced items that are driving up the mean. The large gap between the mean and mode indicates a skewed distribution, likely with a few expensive products pulling the average upwards."
   ]
  },
  {
   "cell_type": "code",
   "execution_count": null,
   "id": "d73c98e0-f965-4a4b-98a7-50dbd0dc232c",
   "metadata": {},
   "outputs": [],
   "source": [
    "# Measures of Dispersion\n",
    "variance = df['price'].var()\n",
    "std_dev = df['price'].std()\n",
    "price_range = df['price'].max() - df['price'].min()\n",
    "q1, q3 = np.percentile(df['price'], [25, 75])\n",
    "iqr = q3 - q1\n",
    "\n",
    "print(f\"Variance: {variance:.2f}\")\n",
    "print(f\"Standard Deviation: {std_dev:.2f}\")\n",
    "print(f\"Price Range: {price_range:.2f}\")\n",
    "print(f\"Interquartile Range (IQR): {iqr:.2f}\")"
   ]
  },
  {
   "cell_type": "markdown",
   "id": "3519e462-0a47-4e9b-8548-d39cf6ad1fed",
   "metadata": {},
   "source": [
    "## How varied are the product prices? Are there any indicators of a significant spread in prices?\n",
    "The high variance, high standard deviation, and extreme price range suggest a significant spread in product prices, though the low IQR hints that most prices are concentrated in a narrower band, with outliers driving the wide range."
   ]
  },
  {
   "cell_type": "code",
   "execution_count": null,
   "id": "a6bdbcf2-d5f5-4635-abdb-4b87dab7ed35",
   "metadata": {},
   "outputs": [],
   "source": [
    "# Histogram - Distribution of Product Prices\n",
    "plt.figure(figsize=(10,5))\n",
    "sns.histplot(df['price'], bins=50, kde=True, color='blue')\n",
    "plt.xlabel('Price (£)')\n",
    "plt.ylabel('Number of Products')\n",
    "plt.title('Distribution of Product Prices')\n",
    "plt.xlim(0, np.percentile(df['price'], 99))  # Exclude extreme outliers for better visualization\n",
    "plt.show()\n",
    "\n"
   ]
  },
  {
   "cell_type": "markdown",
   "id": "14430706-c1f8-4d17-b734-18483ebf23f2",
   "metadata": {},
   "source": [
    "# Issues with Readability:\n",
    "Data Distribution Skew: There are outliers (very high or very low prices) and they distort the visualization.\n",
    "\n",
    "Possible Solutions:\n",
    "Use Logarithmic Scaling: \n",
    "applying a logarithmic scale to the x-axis or y-axis can help reveal more details.\n",
    "Increase Bin Count: A higher number of bins in the histogram can provide a more granular view of the distribution.\n",
    "Remove Outliers or Use Boxplots: If extreme values are overshadowing the main distribution, a boxplot or truncated histogram can help.\n"
   ]
  },
  {
   "cell_type": "code",
   "execution_count": null,
   "id": "a9628d6c-89c6-4d81-b000-a22ac8b302b5",
   "metadata": {},
   "outputs": [],
   "source": [
    "# Box Plot - Identifying Outliers\n",
    "plt.figure(figsize=(8,5))\n",
    "sns.boxplot(x=df['price'], color='orange')\n",
    "plt.xlabel('Price (£)')\n",
    "plt.title('Box Plot of Product Prices')\n",
    "plt.xlim(0, np.percentile(df['price'], 99))  # Exclude extreme outliers\n",
    "plt.show()"
   ]
  },
  {
   "cell_type": "code",
   "execution_count": null,
   "id": "d67b168c-65c2-48b6-ade0-1ec6b2e66d7b",
   "metadata": {},
   "outputs": [],
   "source": [
    "# Sample dataset based on image\n",
    "data = {\n",
    "    \"stars\": [4.7, 4.7, 4.7, 4.7, 4.6]  # Extracted from image\n",
    "}\n",
    "\n",
    "df = pd.DataFrame(data)\n",
    "\n",
    "# Calculate Mean, Median, and Mode\n",
    "mean_stars = df[\"stars\"].mean()\n",
    "median_stars = df[\"stars\"].median()\n",
    "mode_stars = df[\"stars\"].mode()[0]  # Mode can have multiple values, take the first\n",
    "\n",
    "print(f\"Mean Stars: {mean_stars:.2f}\")\n",
    "print(f\"Median Stars: {median_stars:.2f}\")\n",
    "print(f\"Mode Stars: {mode_stars:.2f}\")\n"
   ]
  },
  {
   "cell_type": "code",
   "execution_count": null,
   "id": "73a6bf2b-deff-43e5-a100-f361c9d656c5",
   "metadata": {},
   "outputs": [],
   "source": []
  },
  {
   "cell_type": "code",
   "execution_count": null,
   "id": "97c0f677-558e-4d3f-8fc3-309f5148988f",
   "metadata": {},
   "outputs": [],
   "source": [
    "variance_stars = df[\"stars\"].var()\n",
    "std_dev_stars = df[\"stars\"].std()\n",
    "q1, q3 = np.percentile(df[\"stars\"], [25, 75])\n",
    "iqr_stars = q3 - q1\n",
    "\n",
    "print(f\"Variance: {variance_stars:.4f}\")\n",
    "print(f\"Standard Deviation: {std_dev_stars:.4f}\")\n",
    "print(f\"Interquartile Range (IQR): {iqr_stars:.4f}\")\n"
   ]
  },
  {
   "cell_type": "code",
   "execution_count": null,
   "id": "fdb1e83f-d34b-47f5-bb56-16d5b8fa4e8a",
   "metadata": {},
   "outputs": [],
   "source": [
    "skewness = skew(df[\"stars\"])\n",
    "kurt = kurtosis(df[\"stars\"])\n",
    "\n",
    "print(f\"Skewness: {skewness:.4f} (Skew > 0: Right Skewed, Skew < 0: Left Skewed)\")\n",
    "print(f\"Kurtosis: {kurt:.4f} (Higher Kurtosis: More Peaked, Lower: Flatter)\")\n"
   ]
  },
  {
   "cell_type": "code",
   "execution_count": null,
   "id": "4f13e43e-9400-426b-98c3-0a5bc1a38b1a",
   "metadata": {},
   "outputs": [],
   "source": [
    "plt.figure(figsize=(8,5))\n",
    "sns.histplot(df[\"stars\"], bins=5, kde=True, color='gold')\n",
    "plt.xlabel(\"Stars\")\n",
    "plt.ylabel(\"Frequency\")\n",
    "plt.title(\"Distribution of Product Ratings\")\n",
    "plt.xticks([4.6, 4.7])\n",
    "plt.show()\n",
    "\n",
    "#Done_1"
   ]
  },
  {
   "cell_type": "code",
   "execution_count": null,
   "id": "b90cffc5-e139-416a-bea6-aade955f6831",
   "metadata": {},
   "outputs": [],
   "source": []
  }
 ],
 "metadata": {
  "kernelspec": {
   "display_name": "project1_venv",
   "language": "python",
   "name": "project1_venv"
  },
  "language_info": {
   "codemirror_mode": {
    "name": "ipython",
    "version": 3
   },
   "file_extension": ".py",
   "mimetype": "text/x-python",
   "name": "python",
   "nbconvert_exporter": "python",
   "pygments_lexer": "ipython3",
   "version": "3.12.7"
  }
 },
 "nbformat": 4,
 "nbformat_minor": 5
}
